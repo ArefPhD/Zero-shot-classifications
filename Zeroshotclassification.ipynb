{
  "nbformat": 4,
  "nbformat_minor": 0,
  "metadata": {
    "colab": {
      "name": "Untitled163.ipynb",
      "private_outputs": true,
      "provenance": []
    },
    "kernelspec": {
      "name": "python3",
      "display_name": "Python 3"
    },
    "language_info": {
      "name": "python"
    }
  },
  "cells": [
    {
      "cell_type": "code",
      "source": [
        "!pip install transformers\n"
      ],
      "metadata": {
        "id": "gEpzdqrGP-BE"
      },
      "execution_count": null,
      "outputs": []
    },
    {
      "cell_type": "code",
      "execution_count": null,
      "metadata": {
        "id": "8NmxWgeRP8ch"
      },
      "outputs": [],
      "source": [
        "from transformers import pipeline\n",
        "classifier = pipeline(\"zero-shot-classification\",\n",
        "                      model=\"facebook/bart-large-mnli\")"
      ]
    },
    {
      "cell_type": "code",
      "source": [
        "input_sequence = \"I love traveling\"\n",
        "label_candidate = ['travel', 'cooking', 'entertainment', 'dancing', 'technology']\n",
        "classifier(input_sequence, label_candidate)"
      ],
      "metadata": {
        "id": "uKRJJlITSMV1"
      },
      "execution_count": null,
      "outputs": []
    }
  ]
}